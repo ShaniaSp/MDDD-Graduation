{
 "cells": [
  {
   "cell_type": "markdown",
   "metadata": {},
   "source": [
    "# Data cleaning & Analysis"
   ]
  },
  {
   "cell_type": "code",
   "execution_count": 1,
   "metadata": {},
   "outputs": [],
   "source": [
    "import pandas as pd\n",
    "import sklearn as sk\n",
    "import json"
   ]
  },
  {
   "cell_type": "code",
   "execution_count": 2,
   "metadata": {},
   "outputs": [],
   "source": [
    "#import the original dataset, the orginal data is due to privacy excluded. \n",
    "df = pd.read_csv(r\"Files/Career_portfolio_sample2.csv\", sep =';', engine ='python', encoding='utf-8', error_bad_lines=False)"
   ]
  },
  {
   "cell_type": "markdown",
   "metadata": {},
   "source": [
    "## Replace named entities \n",
    "Using Spacy entity recognition to ensure privacy"
   ]
  },
  {
   "cell_type": "code",
   "execution_count": 3,
   "metadata": {},
   "outputs": [],
   "source": [
    "### Import the needed libraries\n",
    "import spacy\n",
    "import numpy as np\n",
    "from spacy.lang.nl.examples import sentences \n",
    "from spacy import displacy\n",
    "from collections import Counter\n",
    "from nltk.chunk import conlltags2tree, tree2conlltags\n",
    "from pprint import pprint\n",
    "\n",
    "import nl_core_news_md\n",
    "nlp = nl_core_news_md.load()"
   ]
  },
  {
   "cell_type": "code",
   "execution_count": 4,
   "metadata": {},
   "outputs": [],
   "source": [
    "def replace_entity():\n",
    "    text = df['Dit ben ik']\n",
    "    text_list = []\n",
    "    \n",
    "    for s in text: \n",
    "        if s is not np.nan:\n",
    "            doc = nlp(s)\n",
    "            newString = s\n",
    "\n",
    "            ### This piece of code handles one STRING at a time \n",
    "            for e in reversed(doc.ents): #reversed to not modify the offsets of other entities when substituting\n",
    "                start = e.start_char\n",
    "                end = start + len(e.text)\n",
    "                newString = newString[:start] + e.label_ + newString[end:]\n",
    "            edited_sentence = newString\n",
    "            text_list.append(edited_sentence)\n",
    "        else: \n",
    "            text_list.append('NaN')\n",
    "            \n",
    "    df.insert(20, 'converted_about', text_list, True)\n",
    "    return print('done')"
   ]
  },
  {
   "cell_type": "code",
   "execution_count": 5,
   "metadata": {},
   "outputs": [
    {
     "name": "stdout",
     "output_type": "stream",
     "text": [
      "done\n"
     ]
    }
   ],
   "source": [
    "replace_entity()"
   ]
  },
  {
   "cell_type": "markdown",
   "metadata": {},
   "source": [
    "## Clean the dataset"
   ]
  },
  {
   "cell_type": "code",
   "execution_count": 6,
   "metadata": {},
   "outputs": [],
   "source": [
    "### Catecorize the educational level ### \n",
    "def clean_leerweg(x):\n",
    "    if x=='Basisberoepsgerichte leerweg':\n",
    "        return 1\n",
    "    if x=='Kaderberoepsgerichte leerweg':\n",
    "        return 2\n",
    "    if x=='Gemengde leerweg':\n",
    "        return 3\n",
    "    if x=='Theoretische leerweg':\n",
    "        return 4\n",
    "    if x=='Havo':\n",
    "        return 5\n",
    "    if x=='Vwo':\n",
    "        return 6\n",
    "    if x=='Atheneum':\n",
    "        return 7\n",
    "    if x=='Gymnasium':\n",
    "        return 8\n",
    "    if x=='Technasium':\n",
    "        return 9"
   ]
  },
  {
   "cell_type": "markdown",
   "metadata": {},
   "source": [
    "For now I am going to work with only a part of the dataset therefore some columns will be deleted "
   ]
  },
  {
   "cell_type": "code",
   "execution_count": 7,
   "metadata": {},
   "outputs": [],
   "source": [
    "### Clean the dataset ###\n",
    "import numpy as np\n",
    "from sklearn.preprocessing import LabelEncoder\n",
    "\n",
    "def clean_dataframe(df):\n",
    "    \n",
    "    ## Remove NaN values and drop unnecessary columns ##\n",
    "    df_clean = df.dropna(axis=1, how='all')\n",
    "    df_clean = df_clean.drop(['Naam', 'Bedrijf', 'Functie', 'E-mail', 'In gesprek met', 'Activiteit', 'Periode', 'Waar', 'Uren', 'Omschrijving', 'Plaatje.1', 'Video.1'], axis=1) # Delete the personal information of the internship contact\n",
    "    \n",
    "    ## Convert columns to boolean and INT's ##\n",
    "    df_clean['Foto'] = df_clean['Foto'].isna().astype(int) # 0 contains an input, 1 does not contain an input\n",
    "    df_clean['Plaatje'] = df_clean['Plaatje'].isna().astype(int) # 0 contains an input, 1 does not contain an input\n",
    "    df_clean['Video'] = df_clean['Video'].isna().astype(int) # 0 contains an input, 1 does not contain an input\n",
    "    \n",
    "    ## Convert 'Leerweg' (educational level) to numbers ##\n",
    "    ## Source: https://www.rijksoverheid.nl/onderwerpen/voortgezet-onderwijs/vraag-en-antwoord/hoe-zit-het-vmbo-in-elkaar, https://www.onderwijsconsument.nl/niveaus-voortgezet-onderwijs/\n",
    "      \n",
    "    df_clean['Leerweg'] = df_clean['Leerweg'].apply(lambda x: clean_leerweg(x))\n",
    "    \n",
    "    df = df_clean # The cleaned dataframe is equal to  df, therefore the result can be returned\n",
    "    \n",
    "    return df"
   ]
  },
  {
   "cell_type": "code",
   "execution_count": 8,
   "metadata": {},
   "outputs": [],
   "source": [
    "df = clean_dataframe(df)"
   ]
  },
  {
   "cell_type": "markdown",
   "metadata": {},
   "source": [
    "## Sentiment on Lexicon"
   ]
  },
  {
   "cell_type": "code",
   "execution_count": 9,
   "metadata": {},
   "outputs": [
    {
     "name": "stdout",
     "output_type": "stream",
     "text": [
      "The positive lexicon contains  1502  inputs.\n",
      "The negative lexicon contains  2474  inputs.\n"
     ]
    }
   ],
   "source": [
    "# Insert lexicon's for positive and negative words\n",
    "\n",
    "text_file_pos = open(r\"Files/Lexicon/positive_words_nl.txt\", \"r\")\n",
    "text_file_neg = open(r'Files/Lexicon/negative_words_nl.txt', 'r')\n",
    "\n",
    "lines_pos = text_file_pos.readlines()\n",
    "lines_pos = [s.replace('\\n', '') for s in lines_pos]\n",
    "lines_neg = text_file_neg.readlines()\n",
    "lines_neg = [s.replace('\\n', '') for s in lines_neg]\n",
    "\n",
    "print('The positive lexicon contains ', (len(lines_pos)), ' inputs.')\n",
    "print('The negative lexicon contains ', (len(lines_neg)), ' inputs.')"
   ]
  },
  {
   "cell_type": "code",
   "execution_count": 10,
   "metadata": {},
   "outputs": [],
   "source": [
    "import nltk\n",
    "from nltk import word_tokenize, pos_tag\n",
    "from nltk.stem import WordNetLemmatizer\n",
    "from nltk.corpus import wordnet\n",
    "w_tokenizer = nltk.tokenize.WhitespaceTokenizer()\n",
    "lemmatizer = nltk.stem.WordNetLemmatizer()\n",
    "\n",
    "def get_POS_tags(word):\n",
    "    tag = nltk.pos_tag([word])[0][1][0].upper()\n",
    "    tag_dict = {\"J\": wordnet.ADJ,\n",
    "                \"N\": wordnet.NOUN,\n",
    "                \"V\": wordnet.VERB,\n",
    "                \"R\": wordnet.ADV,}\n",
    "    return tag_dict.get(tag, wordnet.NOUN)\n",
    "\n",
    "def lemmatize_text(text):\n",
    "    return [lemmatizer.lemmatize(w, get_POS_tags(w)) for w in nltk.word_tokenize(text)]"
   ]
  },
  {
   "cell_type": "code",
   "execution_count": 11,
   "metadata": {},
   "outputs": [],
   "source": [
    "def add_sentiment(df): \n",
    "     \n",
    "    df[\"Dit ben ik\"] = df[\"Dit ben ik\"].astype(str)\n",
    "    text = df[\"Dit ben ik\"]\n",
    "    lem_text = text.apply(lemmatize_text)\n",
    "    \n",
    "    sent_list = [] \n",
    "    \n",
    "    for line in lem_text:\n",
    "        this_count = 0\n",
    "   \n",
    "        for ref_word in line: \n",
    "\n",
    "            if ref_word in lines_pos :\n",
    "                this_count += 1  \n",
    "            elif ref_word in lines_neg: \n",
    "                this_count += -1\n",
    "            else:\n",
    "                this_count +=0\n",
    "\n",
    "        sent_list.append(this_count)    \n",
    "  \n",
    "    return sent_list"
   ]
  },
  {
   "cell_type": "code",
   "execution_count": 12,
   "metadata": {},
   "outputs": [],
   "source": [
    "sent_list = add_sentiment(df)\n",
    "df.loc[:,'sentiment_score'] = sent_list"
   ]
  },
  {
   "cell_type": "markdown",
   "metadata": {},
   "source": [
    "## Simple text features "
   ]
  },
  {
   "cell_type": "code",
   "execution_count": 13,
   "metadata": {},
   "outputs": [],
   "source": [
    "def word_count(df):\n",
    "    df['word_count'] = df['Dit ben ik'].apply(lambda x: len(str(x).split(\" \")))\n",
    "    return df[['converted_about','word_count']].head() #To have a look at the results."
   ]
  },
  {
   "cell_type": "code",
   "execution_count": 14,
   "metadata": {},
   "outputs": [
    {
     "data": {
      "text/html": [
       "<div>\n",
       "<style scoped>\n",
       "    .dataframe tbody tr th:only-of-type {\n",
       "        vertical-align: middle;\n",
       "    }\n",
       "\n",
       "    .dataframe tbody tr th {\n",
       "        vertical-align: top;\n",
       "    }\n",
       "\n",
       "    .dataframe thead th {\n",
       "        text-align: right;\n",
       "    }\n",
       "</style>\n",
       "<table border=\"1\" class=\"dataframe\">\n",
       "  <thead>\n",
       "    <tr style=\"text-align: right;\">\n",
       "      <th></th>\n",
       "      <th>converted_about</th>\n",
       "      <th>word_count</th>\n",
       "    </tr>\n",
       "  </thead>\n",
       "  <tbody>\n",
       "    <tr>\n",
       "      <th>0</th>\n",
       "      <td>ik ben PERSON, ik ben DATE, mijn hobbyÕs zijn ...</td>\n",
       "      <td>23</td>\n",
       "    </tr>\n",
       "    <tr>\n",
       "      <th>1</th>\n",
       "      <td>Ik ben PERSON uit GPE. Ik zit in klas PERSON E...</td>\n",
       "      <td>20</td>\n",
       "    </tr>\n",
       "    <tr>\n",
       "      <th>2</th>\n",
       "      <td>ik ben PERSON. ik ben DATE. mijn hobby en spor...</td>\n",
       "      <td>80</td>\n",
       "    </tr>\n",
       "    <tr>\n",
       "      <th>3</th>\n",
       "      <td>Ik ben PERSON, ik ben DATE. Ik heb kleinere CA...</td>\n",
       "      <td>62</td>\n",
       "    </tr>\n",
       "    <tr>\n",
       "      <th>4</th>\n",
       "      <td>Ik ben PERSON en ik woon in GPE.  ik ben jarig...</td>\n",
       "      <td>15</td>\n",
       "    </tr>\n",
       "  </tbody>\n",
       "</table>\n",
       "</div>"
      ],
      "text/plain": [
       "                                     converted_about  word_count\n",
       "0  ik ben PERSON, ik ben DATE, mijn hobbyÕs zijn ...          23\n",
       "1  Ik ben PERSON uit GPE. Ik zit in klas PERSON E...          20\n",
       "2  ik ben PERSON. ik ben DATE. mijn hobby en spor...          80\n",
       "3  Ik ben PERSON, ik ben DATE. Ik heb kleinere CA...          62\n",
       "4  Ik ben PERSON en ik woon in GPE.  ik ben jarig...          15"
      ]
     },
     "execution_count": 14,
     "metadata": {},
     "output_type": "execute_result"
    }
   ],
   "source": [
    "word_count(df)"
   ]
  },
  {
   "cell_type": "code",
   "execution_count": 15,
   "metadata": {},
   "outputs": [],
   "source": [
    "def char_count(df):\n",
    "    df['char_count'] = df['Dit ben ik'].str.len() #This includes spaces as well.\n",
    "    return df[['converted_about','char_count']].head() #To have a look at the results."
   ]
  },
  {
   "cell_type": "code",
   "execution_count": 16,
   "metadata": {},
   "outputs": [
    {
     "data": {
      "text/html": [
       "<div>\n",
       "<style scoped>\n",
       "    .dataframe tbody tr th:only-of-type {\n",
       "        vertical-align: middle;\n",
       "    }\n",
       "\n",
       "    .dataframe tbody tr th {\n",
       "        vertical-align: top;\n",
       "    }\n",
       "\n",
       "    .dataframe thead th {\n",
       "        text-align: right;\n",
       "    }\n",
       "</style>\n",
       "<table border=\"1\" class=\"dataframe\">\n",
       "  <thead>\n",
       "    <tr style=\"text-align: right;\">\n",
       "      <th></th>\n",
       "      <th>converted_about</th>\n",
       "      <th>char_count</th>\n",
       "    </tr>\n",
       "  </thead>\n",
       "  <tbody>\n",
       "    <tr>\n",
       "      <th>0</th>\n",
       "      <td>ik ben PERSON, ik ben DATE, mijn hobbyÕs zijn ...</td>\n",
       "      <td>113</td>\n",
       "    </tr>\n",
       "    <tr>\n",
       "      <th>1</th>\n",
       "      <td>Ik ben PERSON uit GPE. Ik zit in klas PERSON E...</td>\n",
       "      <td>94</td>\n",
       "    </tr>\n",
       "    <tr>\n",
       "      <th>2</th>\n",
       "      <td>ik ben PERSON. ik ben DATE. mijn hobby en spor...</td>\n",
       "      <td>388</td>\n",
       "    </tr>\n",
       "    <tr>\n",
       "      <th>3</th>\n",
       "      <td>Ik ben PERSON, ik ben DATE. Ik heb kleinere CA...</td>\n",
       "      <td>306</td>\n",
       "    </tr>\n",
       "    <tr>\n",
       "      <th>4</th>\n",
       "      <td>Ik ben PERSON en ik woon in GPE.  ik ben jarig...</td>\n",
       "      <td>75</td>\n",
       "    </tr>\n",
       "  </tbody>\n",
       "</table>\n",
       "</div>"
      ],
      "text/plain": [
       "                                     converted_about  char_count\n",
       "0  ik ben PERSON, ik ben DATE, mijn hobbyÕs zijn ...         113\n",
       "1  Ik ben PERSON uit GPE. Ik zit in klas PERSON E...          94\n",
       "2  ik ben PERSON. ik ben DATE. mijn hobby en spor...         388\n",
       "3  Ik ben PERSON, ik ben DATE. Ik heb kleinere CA...         306\n",
       "4  Ik ben PERSON en ik woon in GPE.  ik ben jarig...          75"
      ]
     },
     "execution_count": 16,
     "metadata": {},
     "output_type": "execute_result"
    }
   ],
   "source": [
    "char_count(df)"
   ]
  },
  {
   "cell_type": "code",
   "execution_count": 17,
   "metadata": {},
   "outputs": [
    {
     "data": {
      "text/html": [
       "<div>\n",
       "<style scoped>\n",
       "    .dataframe tbody tr th:only-of-type {\n",
       "        vertical-align: middle;\n",
       "    }\n",
       "\n",
       "    .dataframe tbody tr th {\n",
       "        vertical-align: top;\n",
       "    }\n",
       "\n",
       "    .dataframe thead th {\n",
       "        text-align: right;\n",
       "    }\n",
       "</style>\n",
       "<table border=\"1\" class=\"dataframe\">\n",
       "  <thead>\n",
       "    <tr style=\"text-align: right;\">\n",
       "      <th></th>\n",
       "      <th>converted_about</th>\n",
       "      <th>avg_word</th>\n",
       "    </tr>\n",
       "  </thead>\n",
       "  <tbody>\n",
       "    <tr>\n",
       "      <th>0</th>\n",
       "      <td>ik ben PERSON, ik ben DATE, mijn hobbyÕs zijn ...</td>\n",
       "      <td>3.956522</td>\n",
       "    </tr>\n",
       "    <tr>\n",
       "      <th>1</th>\n",
       "      <td>Ik ben PERSON uit GPE. Ik zit in klas PERSON E...</td>\n",
       "      <td>3.750000</td>\n",
       "    </tr>\n",
       "    <tr>\n",
       "      <th>2</th>\n",
       "      <td>ik ben PERSON. ik ben DATE. mijn hobby en spor...</td>\n",
       "      <td>3.862500</td>\n",
       "    </tr>\n",
       "    <tr>\n",
       "      <th>3</th>\n",
       "      <td>Ik ben PERSON, ik ben DATE. Ik heb kleinere CA...</td>\n",
       "      <td>3.951613</td>\n",
       "    </tr>\n",
       "    <tr>\n",
       "      <th>4</th>\n",
       "      <td>Ik ben PERSON en ik woon in GPE.  ik ben jarig...</td>\n",
       "      <td>4.357143</td>\n",
       "    </tr>\n",
       "  </tbody>\n",
       "</table>\n",
       "</div>"
      ],
      "text/plain": [
       "                                     converted_about  avg_word\n",
       "0  ik ben PERSON, ik ben DATE, mijn hobbyÕs zijn ...  3.956522\n",
       "1  Ik ben PERSON uit GPE. Ik zit in klas PERSON E...  3.750000\n",
       "2  ik ben PERSON. ik ben DATE. mijn hobby en spor...  3.862500\n",
       "3  Ik ben PERSON, ik ben DATE. Ik heb kleinere CA...  3.951613\n",
       "4  Ik ben PERSON en ik woon in GPE.  ik ben jarig...  4.357143"
      ]
     },
     "execution_count": 17,
     "metadata": {},
     "output_type": "execute_result"
    }
   ],
   "source": [
    "def avg_word(sentence):\n",
    "    words = sentence.split()\n",
    "    return (sum(len(word) for word in words)/len(words))\n",
    "\n",
    "df['avg_word'] = df['Dit ben ik'].apply(lambda x: avg_word(x))\n",
    "df[['converted_about','avg_word']].head() #To have a look at the results."
   ]
  },
  {
   "cell_type": "code",
   "execution_count": 18,
   "metadata": {},
   "outputs": [
    {
     "name": "stdout",
     "output_type": "stream",
     "text": [
      "done\n"
     ]
    }
   ],
   "source": [
    "df.pop('Dit ben ik')\n",
    "print('done')"
   ]
  },
  {
   "cell_type": "code",
   "execution_count": 19,
   "metadata": {},
   "outputs": [
    {
     "data": {
      "text/html": [
       "<div>\n",
       "<style scoped>\n",
       "    .dataframe tbody tr th:only-of-type {\n",
       "        vertical-align: middle;\n",
       "    }\n",
       "\n",
       "    .dataframe tbody tr th {\n",
       "        vertical-align: top;\n",
       "    }\n",
       "\n",
       "    .dataframe thead th {\n",
       "        text-align: right;\n",
       "    }\n",
       "</style>\n",
       "<table border=\"1\" class=\"dataframe\">\n",
       "  <thead>\n",
       "    <tr style=\"text-align: right;\">\n",
       "      <th></th>\n",
       "      <th>Student ID</th>\n",
       "      <th>School ID</th>\n",
       "      <th>Regio</th>\n",
       "      <th>Leeftijd</th>\n",
       "      <th>Leerjaar</th>\n",
       "      <th>Leerweg</th>\n",
       "      <th>Foto</th>\n",
       "      <th>Plaatje</th>\n",
       "      <th>Video</th>\n",
       "      <th>Mijn vervolgstap / mijn vervolgkeuze is.1</th>\n",
       "      <th>...</th>\n",
       "      <th>converted_about</th>\n",
       "      <th>Strengths</th>\n",
       "      <th>Weaknesses</th>\n",
       "      <th>Opportunities</th>\n",
       "      <th>Threats</th>\n",
       "      <th>Werkervaring</th>\n",
       "      <th>sentiment_score</th>\n",
       "      <th>word_count</th>\n",
       "      <th>char_count</th>\n",
       "      <th>avg_word</th>\n",
       "    </tr>\n",
       "  </thead>\n",
       "  <tbody>\n",
       "    <tr>\n",
       "      <th>0</th>\n",
       "      <td>162426</td>\n",
       "      <td>145</td>\n",
       "      <td>7</td>\n",
       "      <td>15</td>\n",
       "      <td>4</td>\n",
       "      <td>3</td>\n",
       "      <td>0</td>\n",
       "      <td>0</td>\n",
       "      <td>1</td>\n",
       "      <td>scalda mediavormgeving</td>\n",
       "      <td>...</td>\n",
       "      <td>ik ben PERSON, ik ben DATE, mijn hobbyÕs zijn ...</td>\n",
       "      <td>Als ik iets graag wil, ga ik er ook echt voor ...</td>\n",
       "      <td>Dat ik soms wat minder motivatie voor dingen k...</td>\n",
       "      <td>Ik kan misschien ontwerper worden voor bedrijv...</td>\n",
       "      <td>Misschien verdient het niet genoeg geld? Omdat...</td>\n",
       "      <td>Ik heb nog geen werk gehad</td>\n",
       "      <td>0</td>\n",
       "      <td>23</td>\n",
       "      <td>113</td>\n",
       "      <td>3.956522</td>\n",
       "    </tr>\n",
       "    <tr>\n",
       "      <th>1</th>\n",
       "      <td>162429</td>\n",
       "      <td>145</td>\n",
       "      <td>7</td>\n",
       "      <td>16</td>\n",
       "      <td>4</td>\n",
       "      <td>3</td>\n",
       "      <td>0</td>\n",
       "      <td>0</td>\n",
       "      <td>1</td>\n",
       "      <td>ik kies voor mijn vervolg opleiding CIOS in Goes.</td>\n",
       "      <td>...</td>\n",
       "      <td>Ik ben PERSON uit GPE. Ik zit in klas PERSON E...</td>\n",
       "      <td>Ik ben een sportief en sociale jongen. En ik ...</td>\n",
       "      <td>Ik ben niet echt goed in plannen. Ik zou soms ...</td>\n",
       "      <td>Ik wil graag CIOS doen en daarna wil ik iets d...</td>\n",
       "      <td>Nou dat er wel genoeg werk is, nadat ik de opl...</td>\n",
       "      <td>Ik heb bij de Jumbo gewerkt van maart 2019 tot...</td>\n",
       "      <td>0</td>\n",
       "      <td>20</td>\n",
       "      <td>94</td>\n",
       "      <td>3.750000</td>\n",
       "    </tr>\n",
       "    <tr>\n",
       "      <th>2</th>\n",
       "      <td>162431</td>\n",
       "      <td>145</td>\n",
       "      <td>7</td>\n",
       "      <td>15</td>\n",
       "      <td>4</td>\n",
       "      <td>3</td>\n",
       "      <td>0</td>\n",
       "      <td>0</td>\n",
       "      <td>1</td>\n",
       "      <td>gewoon op mavo blijven en me mavo diploma hal...</td>\n",
       "      <td>...</td>\n",
       "      <td>ik ben PERSON. ik ben DATE. mijn hobby en spor...</td>\n",
       "      <td>Mensen kunnen mij 100 keer uitschelden of iets...</td>\n",
       "      <td>Ik heb totaal geen concentratie en kan niet st...</td>\n",
       "      <td>Loonwerker of hovenier. Ik denk dat ik bij hov...</td>\n",
       "      <td>Loonwerker is nirt vee ij te verdienen dan zou...</td>\n",
       "      <td>ik sta met mijn vader in de keuken in het caf...</td>\n",
       "      <td>2</td>\n",
       "      <td>80</td>\n",
       "      <td>388</td>\n",
       "      <td>3.862500</td>\n",
       "    </tr>\n",
       "    <tr>\n",
       "      <th>3</th>\n",
       "      <td>162437</td>\n",
       "      <td>145</td>\n",
       "      <td>7</td>\n",
       "      <td>15</td>\n",
       "      <td>4</td>\n",
       "      <td>3</td>\n",
       "      <td>0</td>\n",
       "      <td>0</td>\n",
       "      <td>1</td>\n",
       "      <td>Als ik mijn mavo diploma heb gehaald ga ik nog...</td>\n",
       "      <td>...</td>\n",
       "      <td>Ik ben PERSON, ik ben DATE. Ik heb kleinere CA...</td>\n",
       "      <td>Emma: Ik ben sociaal en gezellig. Mama&amp;papa: E...</td>\n",
       "      <td>Emma: Ik heb soms moeite met me lang concentre...</td>\n",
       "      <td>Emma: Ik kan de baan gaan doen die ik al heel ...</td>\n",
       "      <td>Emma: Het is soms een erg gevoelig en moeilijk...</td>\n",
       "      <td>Ik heb weinig werkervaring omdat ik nu niet w...</td>\n",
       "      <td>1</td>\n",
       "      <td>62</td>\n",
       "      <td>306</td>\n",
       "      <td>3.951613</td>\n",
       "    </tr>\n",
       "    <tr>\n",
       "      <th>4</th>\n",
       "      <td>162438</td>\n",
       "      <td>145</td>\n",
       "      <td>7</td>\n",
       "      <td>15</td>\n",
       "      <td>4</td>\n",
       "      <td>3</td>\n",
       "      <td>0</td>\n",
       "      <td>0</td>\n",
       "      <td>1</td>\n",
       "      <td>De opleiding fotografie op Grafisch Lyceum in...</td>\n",
       "      <td>...</td>\n",
       "      <td>Ik ben PERSON en ik woon in GPE.  ik ben jarig...</td>\n",
       "      <td>Mezelf: sociaal, vrolijk, behulpzaam   Amber:...</td>\n",
       "      <td>Mezelf: lui, jaloers, druk   Amber: druk, ong...</td>\n",
       "      <td>Je kan professional fotograaf worden voor een...</td>\n",
       "      <td>Je hebt niet heel veel mogelijkheden omdat je...</td>\n",
       "      <td>Ik heb geen werkervaring met fotografie, maar...</td>\n",
       "      <td>0</td>\n",
       "      <td>15</td>\n",
       "      <td>75</td>\n",
       "      <td>4.357143</td>\n",
       "    </tr>\n",
       "    <tr>\n",
       "      <th>5</th>\n",
       "      <td>162439</td>\n",
       "      <td>145</td>\n",
       "      <td>7</td>\n",
       "      <td>17</td>\n",
       "      <td>4</td>\n",
       "      <td>3</td>\n",
       "      <td>0</td>\n",
       "      <td>0</td>\n",
       "      <td>1</td>\n",
       "      <td>MBO opleiding bij de Rooien Pannen in Breda, ...</td>\n",
       "      <td>...</td>\n",
       "      <td>PERSON en ik ben DATE  geboortedatum : DATE  i...</td>\n",
       "      <td>Behulpzaam, sociaal, positief     Richard Eve...</td>\n",
       "      <td>Iets minder goede concentratie     Richard Ev...</td>\n",
       "      <td>Hotelmanagement &amp; Gastronomie, opleiding : pr...</td>\n",
       "      <td>Met kritiek omgaan vindt ik lastig.  Richa...</td>\n",
       "      <td>Ik heb een bijbaan bij van der Valk Hotel Mid...</td>\n",
       "      <td>1</td>\n",
       "      <td>59</td>\n",
       "      <td>301</td>\n",
       "      <td>4.673077</td>\n",
       "    </tr>\n",
       "    <tr>\n",
       "      <th>6</th>\n",
       "      <td>162441</td>\n",
       "      <td>145</td>\n",
       "      <td>7</td>\n",
       "      <td>16</td>\n",
       "      <td>4</td>\n",
       "      <td>3</td>\n",
       "      <td>0</td>\n",
       "      <td>0</td>\n",
       "      <td>1</td>\n",
       "      <td>Mbo opleiding kindprofessional op Scalda in G...</td>\n",
       "      <td>...</td>\n",
       "      <td>Ik ben PERSON en ik ben DATE. ik zit nu in ORG...</td>\n",
       "      <td>als ik met iets bezig ben en het gaat goed kan...</td>\n",
       "      <td>Ik ben niet zo goed in rekenen. Ik ben ook bes...</td>\n",
       "      <td>Mij lijkt het heel leuk om de hotelschool ople...</td>\n",
       "      <td>Ik vind het bij de opleiding schoonheidsspecia...</td>\n",
       "      <td>Ik geef nu al meer dan 3 jaar les bij het ster...</td>\n",
       "      <td>3</td>\n",
       "      <td>77</td>\n",
       "      <td>375</td>\n",
       "      <td>3.883117</td>\n",
       "    </tr>\n",
       "    <tr>\n",
       "      <th>7</th>\n",
       "      <td>162442</td>\n",
       "      <td>145</td>\n",
       "      <td>7</td>\n",
       "      <td>16</td>\n",
       "      <td>4</td>\n",
       "      <td>3</td>\n",
       "      <td>0</td>\n",
       "      <td>0</td>\n",
       "      <td>1</td>\n",
       "      <td>ik denk dat ik het later leuk zou vinden om i...</td>\n",
       "      <td>...</td>\n",
       "      <td>Ik ben PERSON DATE en doe PERSON. Ik wil later...</td>\n",
       "      <td>Behulpzaam en ik zie wanneer ik nodig ben.Nina...</td>\n",
       "      <td>Best snel jaloers en chagrijnig Nina: stil, so...</td>\n",
       "      <td>Kind proffesional: Na het behalen van je diplo...</td>\n",
       "      <td>Altijd met kinderen bezig dus kan soms ook fru...</td>\n",
       "      <td>Ik heb een keer een dagje meegelopen op de ou...</td>\n",
       "      <td>1</td>\n",
       "      <td>71</td>\n",
       "      <td>387</td>\n",
       "      <td>4.464789</td>\n",
       "    </tr>\n",
       "    <tr>\n",
       "      <th>8</th>\n",
       "      <td>162443</td>\n",
       "      <td>145</td>\n",
       "      <td>7</td>\n",
       "      <td>16</td>\n",
       "      <td>4</td>\n",
       "      <td>3</td>\n",
       "      <td>0</td>\n",
       "      <td>1</td>\n",
       "      <td>1</td>\n",
       "      <td>Mijn vervolg keuze is de opleiding handhaver ...</td>\n",
       "      <td>...</td>\n",
       "      <td>Ik ben PERSON ik ben DATE en woon in GPE ik zi...</td>\n",
       "      <td>ik ben een leuke gezellige leerling die het l...</td>\n",
       "      <td>ik heb slechte concentratie en kan soms druk e...</td>\n",
       "      <td>ik ga de opleiding handhaver toezicht en veil...</td>\n",
       "      <td>ik zie geen nadelen op dingen die minder zijn ...</td>\n",
       "      <td>Ik werk nu bij de Action</td>\n",
       "      <td>2</td>\n",
       "      <td>23</td>\n",
       "      <td>100</td>\n",
       "      <td>3.391304</td>\n",
       "    </tr>\n",
       "    <tr>\n",
       "      <th>9</th>\n",
       "      <td>162444</td>\n",
       "      <td>145</td>\n",
       "      <td>7</td>\n",
       "      <td>15</td>\n",
       "      <td>4</td>\n",
       "      <td>3</td>\n",
       "      <td>0</td>\n",
       "      <td>0</td>\n",
       "      <td>1</td>\n",
       "      <td>Ik kies voor mijn opleiding installatietechni...</td>\n",
       "      <td>...</td>\n",
       "      <td>Ik ben PERSON. Ik woon in GPE en ik heb CARDIN...</td>\n",
       "      <td>Sociaal en handig</td>\n",
       "      <td>Niet altijd oplettend</td>\n",
       "      <td>Installatietechniek, ik hoop dat ik na mijn op...</td>\n",
       "      <td>Werken met gasleidingen</td>\n",
       "      <td>Ik werk op dit moment al 3 jaar bij een campin...</td>\n",
       "      <td>0</td>\n",
       "      <td>13</td>\n",
       "      <td>64</td>\n",
       "      <td>4.000000</td>\n",
       "    </tr>\n",
       "  </tbody>\n",
       "</table>\n",
       "<p>10 rows × 24 columns</p>\n",
       "</div>"
      ],
      "text/plain": [
       "   Student ID  School ID  Regio  Leeftijd  Leerjaar  Leerweg  Foto  Plaatje  \\\n",
       "0      162426        145      7        15         4        3     0        0   \n",
       "1      162429        145      7        16         4        3     0        0   \n",
       "2      162431        145      7        15         4        3     0        0   \n",
       "3      162437        145      7        15         4        3     0        0   \n",
       "4      162438        145      7        15         4        3     0        0   \n",
       "5      162439        145      7        17         4        3     0        0   \n",
       "6      162441        145      7        16         4        3     0        0   \n",
       "7      162442        145      7        16         4        3     0        0   \n",
       "8      162443        145      7        16         4        3     0        1   \n",
       "9      162444        145      7        15         4        3     0        0   \n",
       "\n",
       "   Video          Mijn vervolgstap / mijn vervolgkeuze is.1  ...  \\\n",
       "0      1                             scalda mediavormgeving  ...   \n",
       "1      1  ik kies voor mijn vervolg opleiding CIOS in Goes.  ...   \n",
       "2      1   gewoon op mavo blijven en me mavo diploma hal...  ...   \n",
       "3      1  Als ik mijn mavo diploma heb gehaald ga ik nog...  ...   \n",
       "4      1   De opleiding fotografie op Grafisch Lyceum in...  ...   \n",
       "5      1   MBO opleiding bij de Rooien Pannen in Breda, ...  ...   \n",
       "6      1   Mbo opleiding kindprofessional op Scalda in G...  ...   \n",
       "7      1   ik denk dat ik het later leuk zou vinden om i...  ...   \n",
       "8      1   Mijn vervolg keuze is de opleiding handhaver ...  ...   \n",
       "9      1   Ik kies voor mijn opleiding installatietechni...  ...   \n",
       "\n",
       "                                     converted_about  \\\n",
       "0  ik ben PERSON, ik ben DATE, mijn hobbyÕs zijn ...   \n",
       "1  Ik ben PERSON uit GPE. Ik zit in klas PERSON E...   \n",
       "2  ik ben PERSON. ik ben DATE. mijn hobby en spor...   \n",
       "3  Ik ben PERSON, ik ben DATE. Ik heb kleinere CA...   \n",
       "4  Ik ben PERSON en ik woon in GPE.  ik ben jarig...   \n",
       "5  PERSON en ik ben DATE  geboortedatum : DATE  i...   \n",
       "6  Ik ben PERSON en ik ben DATE. ik zit nu in ORG...   \n",
       "7  Ik ben PERSON DATE en doe PERSON. Ik wil later...   \n",
       "8  Ik ben PERSON ik ben DATE en woon in GPE ik zi...   \n",
       "9  Ik ben PERSON. Ik woon in GPE en ik heb CARDIN...   \n",
       "\n",
       "                                           Strengths  \\\n",
       "0  Als ik iets graag wil, ga ik er ook echt voor ...   \n",
       "1   Ik ben een sportief en sociale jongen. En ik ...   \n",
       "2  Mensen kunnen mij 100 keer uitschelden of iets...   \n",
       "3  Emma: Ik ben sociaal en gezellig. Mama&papa: E...   \n",
       "4   Mezelf: sociaal, vrolijk, behulpzaam   Amber:...   \n",
       "5   Behulpzaam, sociaal, positief     Richard Eve...   \n",
       "6  als ik met iets bezig ben en het gaat goed kan...   \n",
       "7  Behulpzaam en ik zie wanneer ik nodig ben.Nina...   \n",
       "8   ik ben een leuke gezellige leerling die het l...   \n",
       "9                                  Sociaal en handig   \n",
       "\n",
       "                                          Weaknesses  \\\n",
       "0  Dat ik soms wat minder motivatie voor dingen k...   \n",
       "1  Ik ben niet echt goed in plannen. Ik zou soms ...   \n",
       "2  Ik heb totaal geen concentratie en kan niet st...   \n",
       "3  Emma: Ik heb soms moeite met me lang concentre...   \n",
       "4   Mezelf: lui, jaloers, druk   Amber: druk, ong...   \n",
       "5   Iets minder goede concentratie     Richard Ev...   \n",
       "6  Ik ben niet zo goed in rekenen. Ik ben ook bes...   \n",
       "7  Best snel jaloers en chagrijnig Nina: stil, so...   \n",
       "8  ik heb slechte concentratie en kan soms druk e...   \n",
       "9                              Niet altijd oplettend   \n",
       "\n",
       "                                       Opportunities  \\\n",
       "0  Ik kan misschien ontwerper worden voor bedrijv...   \n",
       "1  Ik wil graag CIOS doen en daarna wil ik iets d...   \n",
       "2  Loonwerker of hovenier. Ik denk dat ik bij hov...   \n",
       "3  Emma: Ik kan de baan gaan doen die ik al heel ...   \n",
       "4   Je kan professional fotograaf worden voor een...   \n",
       "5   Hotelmanagement & Gastronomie, opleiding : pr...   \n",
       "6  Mij lijkt het heel leuk om de hotelschool ople...   \n",
       "7  Kind proffesional: Na het behalen van je diplo...   \n",
       "8   ik ga de opleiding handhaver toezicht en veil...   \n",
       "9  Installatietechniek, ik hoop dat ik na mijn op...   \n",
       "\n",
       "                                             Threats  \\\n",
       "0  Misschien verdient het niet genoeg geld? Omdat...   \n",
       "1  Nou dat er wel genoeg werk is, nadat ik de opl...   \n",
       "2  Loonwerker is nirt vee ij te verdienen dan zou...   \n",
       "3  Emma: Het is soms een erg gevoelig en moeilijk...   \n",
       "4   Je hebt niet heel veel mogelijkheden omdat je...   \n",
       "5      Met kritiek omgaan vindt ik lastig.  Richa...   \n",
       "6  Ik vind het bij de opleiding schoonheidsspecia...   \n",
       "7  Altijd met kinderen bezig dus kan soms ook fru...   \n",
       "8  ik zie geen nadelen op dingen die minder zijn ...   \n",
       "9                            Werken met gasleidingen   \n",
       "\n",
       "                                        Werkervaring sentiment_score  \\\n",
       "0                        Ik heb nog geen werk gehad                0   \n",
       "1  Ik heb bij de Jumbo gewerkt van maart 2019 tot...               0   \n",
       "2   ik sta met mijn vader in de keuken in het caf...               2   \n",
       "3   Ik heb weinig werkervaring omdat ik nu niet w...               1   \n",
       "4   Ik heb geen werkervaring met fotografie, maar...               0   \n",
       "5   Ik heb een bijbaan bij van der Valk Hotel Mid...               1   \n",
       "6  Ik geef nu al meer dan 3 jaar les bij het ster...               3   \n",
       "7   Ik heb een keer een dagje meegelopen op de ou...               1   \n",
       "8                          Ik werk nu bij de Action                2   \n",
       "9  Ik werk op dit moment al 3 jaar bij een campin...               0   \n",
       "\n",
       "  word_count char_count  avg_word  \n",
       "0         23        113  3.956522  \n",
       "1         20         94  3.750000  \n",
       "2         80        388  3.862500  \n",
       "3         62        306  3.951613  \n",
       "4         15         75  4.357143  \n",
       "5         59        301  4.673077  \n",
       "6         77        375  3.883117  \n",
       "7         71        387  4.464789  \n",
       "8         23        100  3.391304  \n",
       "9         13         64  4.000000  \n",
       "\n",
       "[10 rows x 24 columns]"
      ]
     },
     "execution_count": 19,
     "metadata": {},
     "output_type": "execute_result"
    }
   ],
   "source": [
    "df.head(10)"
   ]
  },
  {
   "cell_type": "code",
   "execution_count": 20,
   "metadata": {},
   "outputs": [],
   "source": [
    "df.to_csv('portfolio_data_anonymized.csv', index=False)"
   ]
  },
  {
   "cell_type": "markdown",
   "metadata": {},
   "source": [
    "## Experiences dataset"
   ]
  },
  {
   "cell_type": "code",
   "execution_count": 21,
   "metadata": {},
   "outputs": [],
   "source": [
    "#Import experiences\n",
    "\n",
    "#import the original dataset provided by the AI-research group\n",
    "df_exp = pd.read_csv(r\"Files/Student_experiences_sector.csv\", sep =';', engine ='python', encoding='utf-8', error_bad_lines=False)"
   ]
  },
  {
   "cell_type": "code",
   "execution_count": 22,
   "metadata": {},
   "outputs": [
    {
     "data": {
      "text/html": [
       "<div>\n",
       "<style scoped>\n",
       "    .dataframe tbody tr th:only-of-type {\n",
       "        vertical-align: middle;\n",
       "    }\n",
       "\n",
       "    .dataframe tbody tr th {\n",
       "        vertical-align: top;\n",
       "    }\n",
       "\n",
       "    .dataframe thead th {\n",
       "        text-align: right;\n",
       "    }\n",
       "</style>\n",
       "<table border=\"1\" class=\"dataframe\">\n",
       "  <thead>\n",
       "    <tr style=\"text-align: right;\">\n",
       "      <th></th>\n",
       "      <th>Student ID</th>\n",
       "      <th>Activiteit</th>\n",
       "      <th>Sector</th>\n",
       "      <th>Type_activiteit</th>\n",
       "      <th>Beoordeling</th>\n",
       "    </tr>\n",
       "  </thead>\n",
       "  <tbody>\n",
       "    <tr>\n",
       "      <th>0</th>\n",
       "      <td>162450</td>\n",
       "      <td>Administratie</td>\n",
       "      <td>Economie en Bedrijf</td>\n",
       "      <td>Opendag</td>\n",
       "      <td>3</td>\n",
       "    </tr>\n",
       "    <tr>\n",
       "      <th>1</th>\n",
       "      <td>162458</td>\n",
       "      <td>Administratie</td>\n",
       "      <td>Economie en Bedrijf</td>\n",
       "      <td>Opendag</td>\n",
       "      <td>4</td>\n",
       "    </tr>\n",
       "    <tr>\n",
       "      <th>2</th>\n",
       "      <td>162431</td>\n",
       "      <td>Agrarisch</td>\n",
       "      <td>Aarde en Milieu</td>\n",
       "      <td>Opendag</td>\n",
       "      <td>3</td>\n",
       "    </tr>\n",
       "    <tr>\n",
       "      <th>3</th>\n",
       "      <td>162462</td>\n",
       "      <td>Analist</td>\n",
       "      <td>Exact en Informatica</td>\n",
       "      <td>Opendag</td>\n",
       "      <td>3</td>\n",
       "    </tr>\n",
       "    <tr>\n",
       "      <th>4</th>\n",
       "      <td>162469</td>\n",
       "      <td>Analist</td>\n",
       "      <td>Exact en Informatica</td>\n",
       "      <td>Opendag</td>\n",
       "      <td>3</td>\n",
       "    </tr>\n",
       "  </tbody>\n",
       "</table>\n",
       "</div>"
      ],
      "text/plain": [
       "   Student ID     Activiteit                Sector Type_activiteit  \\\n",
       "0      162450  Administratie   Economie en Bedrijf         Opendag   \n",
       "1      162458  Administratie   Economie en Bedrijf         Opendag   \n",
       "2      162431      Agrarisch       Aarde en Milieu         Opendag   \n",
       "3      162462        Analist  Exact en Informatica         Opendag   \n",
       "4      162469        Analist  Exact en Informatica         Opendag   \n",
       "\n",
       "   Beoordeling   \n",
       "0             3  \n",
       "1             4  \n",
       "2             3  \n",
       "3             3  \n",
       "4             3  "
      ]
     },
     "execution_count": 22,
     "metadata": {},
     "output_type": "execute_result"
    }
   ],
   "source": [
    "df_exp.head()"
   ]
  },
  {
   "cell_type": "code",
   "execution_count": 23,
   "metadata": {},
   "outputs": [],
   "source": [
    "df_exp.sort_values(by='Activiteit')\n",
    "\n",
    "from sklearn.preprocessing import LabelEncoder\n",
    "LE = LabelEncoder()\n",
    "df_exp['activiteit_id'] = LE.fit_transform(df_exp['Activiteit'])"
   ]
  },
  {
   "cell_type": "code",
   "execution_count": 24,
   "metadata": {},
   "outputs": [
    {
     "data": {
      "text/html": [
       "<div>\n",
       "<style scoped>\n",
       "    .dataframe tbody tr th:only-of-type {\n",
       "        vertical-align: middle;\n",
       "    }\n",
       "\n",
       "    .dataframe tbody tr th {\n",
       "        vertical-align: top;\n",
       "    }\n",
       "\n",
       "    .dataframe thead th {\n",
       "        text-align: right;\n",
       "    }\n",
       "</style>\n",
       "<table border=\"1\" class=\"dataframe\">\n",
       "  <thead>\n",
       "    <tr style=\"text-align: right;\">\n",
       "      <th></th>\n",
       "      <th>Student ID</th>\n",
       "      <th>Activiteit</th>\n",
       "      <th>Sector</th>\n",
       "      <th>Type_activiteit</th>\n",
       "      <th>Beoordeling</th>\n",
       "      <th>activiteit_id</th>\n",
       "    </tr>\n",
       "  </thead>\n",
       "  <tbody>\n",
       "    <tr>\n",
       "      <th>0</th>\n",
       "      <td>162450</td>\n",
       "      <td>Administratie</td>\n",
       "      <td>Economie en Bedrijf</td>\n",
       "      <td>Opendag</td>\n",
       "      <td>3</td>\n",
       "      <td>0</td>\n",
       "    </tr>\n",
       "    <tr>\n",
       "      <th>1</th>\n",
       "      <td>162458</td>\n",
       "      <td>Administratie</td>\n",
       "      <td>Economie en Bedrijf</td>\n",
       "      <td>Opendag</td>\n",
       "      <td>4</td>\n",
       "      <td>0</td>\n",
       "    </tr>\n",
       "    <tr>\n",
       "      <th>2</th>\n",
       "      <td>162431</td>\n",
       "      <td>Agrarisch</td>\n",
       "      <td>Aarde en Milieu</td>\n",
       "      <td>Opendag</td>\n",
       "      <td>3</td>\n",
       "      <td>1</td>\n",
       "    </tr>\n",
       "    <tr>\n",
       "      <th>3</th>\n",
       "      <td>162462</td>\n",
       "      <td>Analist</td>\n",
       "      <td>Exact en Informatica</td>\n",
       "      <td>Opendag</td>\n",
       "      <td>3</td>\n",
       "      <td>2</td>\n",
       "    </tr>\n",
       "    <tr>\n",
       "      <th>4</th>\n",
       "      <td>162469</td>\n",
       "      <td>Analist</td>\n",
       "      <td>Exact en Informatica</td>\n",
       "      <td>Opendag</td>\n",
       "      <td>3</td>\n",
       "      <td>2</td>\n",
       "    </tr>\n",
       "  </tbody>\n",
       "</table>\n",
       "</div>"
      ],
      "text/plain": [
       "   Student ID     Activiteit                Sector Type_activiteit  \\\n",
       "0      162450  Administratie   Economie en Bedrijf         Opendag   \n",
       "1      162458  Administratie   Economie en Bedrijf         Opendag   \n",
       "2      162431      Agrarisch       Aarde en Milieu         Opendag   \n",
       "3      162462        Analist  Exact en Informatica         Opendag   \n",
       "4      162469        Analist  Exact en Informatica         Opendag   \n",
       "\n",
       "   Beoordeling   activiteit_id  \n",
       "0             3              0  \n",
       "1             4              0  \n",
       "2             3              1  \n",
       "3             3              2  \n",
       "4             3              2  "
      ]
     },
     "execution_count": 24,
     "metadata": {},
     "output_type": "execute_result"
    }
   ],
   "source": [
    "df_exp.sort_values(by='activiteit_id').head()"
   ]
  },
  {
   "cell_type": "code",
   "execution_count": 25,
   "metadata": {},
   "outputs": [
    {
     "name": "stdout",
     "output_type": "stream",
     "text": [
      "<class 'pandas.core.frame.DataFrame'>\n",
      "RangeIndex: 96 entries, 0 to 95\n",
      "Data columns (total 6 columns):\n",
      " #   Column           Non-Null Count  Dtype \n",
      "---  ------           --------------  ----- \n",
      " 0   Student ID       96 non-null     int64 \n",
      " 1   Activiteit       96 non-null     object\n",
      " 2   Sector           96 non-null     object\n",
      " 3   Type_activiteit  96 non-null     object\n",
      " 4   Beoordeling      96 non-null     int64 \n",
      " 5   activiteit_id    96 non-null     int64 \n",
      "dtypes: int64(3), object(3)\n",
      "memory usage: 4.6+ KB\n"
     ]
    }
   ],
   "source": [
    "df_exp.info(50)"
   ]
  },
  {
   "cell_type": "code",
   "execution_count": 26,
   "metadata": {},
   "outputs": [
    {
     "data": {
      "image/png": "[encoded data removed]",
      "text/plain": [
       "<Figure size 2160x720 with 1 Axes>"
      ]
     },
     "metadata": {
      "needs_background": "light"
     },
     "output_type": "display_data"
    }
   ],
   "source": [
    "import seaborn as sns\n",
    "import matplotlib.pyplot as plt\n",
    "\n",
    "fig_dims = (30, 10)\n",
    "fig, ax = plt.subplots(figsize=fig_dims)\n",
    "sns.boxplot(x='activiteit_id', y='Beoordeling ', ax=ax, data=df_exp)\n",
    "plt.show()"
   ]
  },
  {
   "cell_type": "code",
   "execution_count": 27,
   "metadata": {},
   "outputs": [
    {
     "data": {
      "image/png": "[encoded data removed]",
      "text/plain": [
       "<Figure size 2160x720 with 1 Axes>"
      ]
     },
     "metadata": {
      "needs_background": "light"
     },
     "output_type": "display_data"
    }
   ],
   "source": [
    "import seaborn as sns\n",
    "import matplotlib.pyplot as plt\n",
    "\n",
    "fig_dims = (30, 10)\n",
    "fig, ax = plt.subplots(figsize=fig_dims)\n",
    "sns.boxplot(x='Sector', y='Beoordeling ', ax=ax, data=df_exp)\n",
    "plt.show()"
   ]
  },
  {
   "cell_type": "code",
   "execution_count": 28,
   "metadata": {},
   "outputs": [
    {
     "data": {
      "text/plain": [
       "<AxesSubplot:>"
      ]
     },
     "execution_count": 28,
     "metadata": {},
     "output_type": "execute_result"
    },
    {
     "data": {
      "image/png": "[encoded data removed]",
      "text/plain": [
       "<Figure size 2160x720 with 1 Axes>"
      ]
     },
     "metadata": {
      "needs_background": "light"
     },
     "output_type": "display_data"
    }
   ],
   "source": [
    "df_exp['Activiteit'].value_counts().plot(kind='barh', figsize=(30,10))"
   ]
  },
  {
   "cell_type": "code",
   "execution_count": 29,
   "metadata": {},
   "outputs": [
    {
     "data": {
      "text/plain": [
       "<AxesSubplot:>"
      ]
     },
     "execution_count": 29,
     "metadata": {},
     "output_type": "execute_result"
    },
    {
     "data": {
      "image/png": "[encoded data removed]",
      "text/plain": [
       "<Figure size 2160x720 with 1 Axes>"
      ]
     },
     "metadata": {
      "needs_background": "light"
     },
     "output_type": "display_data"
    }
   ],
   "source": [
    "df_exp['Sector'].value_counts().plot(kind='barh', figsize=(30,10))"
   ]
  },
  {
   "cell_type": "code",
   "execution_count": 30,
   "metadata": {},
   "outputs": [
    {
     "data": {
      "text/plain": [
       "Gezondheid                21\n",
       "Gedrag en Maatschappij    11\n",
       "Onderwijs en Opvoeding    10\n",
       "Economie en Bedrijf        9\n",
       "Exact en Informatica       8\n",
       "Techniek                   8\n",
       "Aarde en Milieu            7\n",
       "Taal en Communicatie       7\n",
       "Kunst en Cultuur           6\n",
       "Recht en Bestuur           5\n",
       "VO                         4\n",
       "Name: Sector, dtype: int64"
      ]
     },
     "execution_count": 30,
     "metadata": {},
     "output_type": "execute_result"
    }
   ],
   "source": [
    "df_exp['Sector'].value_counts()"
   ]
  }
 ],
 "metadata": {
  "kernelspec": {
   "display_name": "Python 3",
   "language": "python",
   "name": "python3"
  },
  "language_info": {
   "codemirror_mode": {
    "name": "ipython",
    "version": 3
   },
   "file_extension": ".py",
   "mimetype": "text/x-python",
   "name": "python",
   "nbconvert_exporter": "python",
   "pygments_lexer": "ipython3",
   "version": "3.8.3"
  }
 },
 "nbformat": 4,
 "nbformat_minor": 4
}
